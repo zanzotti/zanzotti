{
 "cells": [
  {
   "cell_type": "markdown",
   "id": "18a18a5a",
   "metadata": {
    "papermill": {
     "duration": 0.023266,
     "end_time": "2022-02-21T19:16:19.597253",
     "exception": false,
     "start_time": "2022-02-21T19:16:19.573987",
     "status": "completed"
    },
    "tags": []
   },
   "source": [
    "**This notebook is an exercise in the [Python](https://www.kaggle.com/learn/python) course.  You can reference the tutorial at [this link](https://www.kaggle.com/colinmorris/hello-python).**\n",
    "\n",
    "---\n"
   ]
  },
  {
   "cell_type": "markdown",
   "id": "65dde060",
   "metadata": {
    "papermill": {
     "duration": 0.02131,
     "end_time": "2022-02-21T19:16:19.640158",
     "exception": false,
     "start_time": "2022-02-21T19:16:19.618848",
     "status": "completed"
    },
    "tags": []
   },
   "source": [
    "Welcome to your first set of Python coding problems.  If this is your first time using Kaggle Notebooks, welcome! \n",
    "\n",
    "Notebooks are composed of blocks (called \"cells\") of text and code. Each of these is editable, though you'll mainly be editing the code cells to answer some questions.\n",
    "\n",
    "To get started, try running the code cell below (by pressing the ► button, or clicking on the cell and pressing ctrl+enter on your keyboard)."
   ]
  },
  {
   "cell_type": "code",
   "execution_count": 1,
   "id": "d4b5da6e",
   "metadata": {
    "execution": {
     "iopub.execute_input": "2022-02-21T19:16:19.693943Z",
     "iopub.status.busy": "2022-02-21T19:16:19.693032Z",
     "iopub.status.idle": "2022-02-21T19:16:19.697407Z",
     "shell.execute_reply": "2022-02-21T19:16:19.696768Z"
    },
    "papermill": {
     "duration": 0.035398,
     "end_time": "2022-02-21T19:16:19.697567",
     "exception": false,
     "start_time": "2022-02-21T19:16:19.662169",
     "status": "completed"
    },
    "tags": []
   },
   "outputs": [
    {
     "name": "stdout",
     "output_type": "stream",
     "text": [
      "You've successfully run some Python code\n",
      "Congratulations!\n"
     ]
    }
   ],
   "source": [
    "print(\"You've successfully run some Python code\")\n",
    "print(\"Congratulations!\")"
   ]
  },
  {
   "cell_type": "markdown",
   "id": "04b0c856",
   "metadata": {
    "papermill": {
     "duration": 0.022266,
     "end_time": "2022-02-21T19:16:19.743214",
     "exception": false,
     "start_time": "2022-02-21T19:16:19.720948",
     "status": "completed"
    },
    "tags": []
   },
   "source": [
    "Try adding another line of code in the cell above and re-running it. \n",
    "\n",
    "Now let's get a little fancier:  Add a new code cell by clicking on an existing code cell, hitting the escape key, and then hitting the `a` or `b` key.  The `a` key will add a cell above the current cell, and `b` adds a cell below.\n",
    "\n",
    "Great! Now you know how to use Notebooks.\n",
    "\n",
    "Each hands-on exercise starts by setting up our feedback and code checking mechanism. Run the code cell below to do that. Then you'll be ready to move on to question 0."
   ]
  },
  {
   "cell_type": "code",
   "execution_count": 2,
   "id": "340765c3",
   "metadata": {
    "_kg_hide-input": true,
    "_kg_hide-output": true,
    "execution": {
     "iopub.execute_input": "2022-02-21T19:16:19.795065Z",
     "iopub.status.busy": "2022-02-21T19:16:19.794400Z",
     "iopub.status.idle": "2022-02-21T19:16:19.826221Z",
     "shell.execute_reply": "2022-02-21T19:16:19.826685Z"
    },
    "papermill": {
     "duration": 0.06092,
     "end_time": "2022-02-21T19:16:19.826857",
     "exception": false,
     "start_time": "2022-02-21T19:16:19.765937",
     "status": "completed"
    },
    "tags": []
   },
   "outputs": [
    {
     "name": "stdout",
     "output_type": "stream",
     "text": [
      "Setup complete! You're ready to start question 0.\n"
     ]
    }
   ],
   "source": [
    "from learntools.core import binder; binder.bind(globals())\n",
    "from learntools.python.ex1 import *\n",
    "print(\"Setup complete! You're ready to start question 0.\")"
   ]
  },
  {
   "cell_type": "markdown",
   "id": "ea9a9e1e",
   "metadata": {
    "papermill": {
     "duration": 0.02349,
     "end_time": "2022-02-21T19:16:19.873910",
     "exception": false,
     "start_time": "2022-02-21T19:16:19.850420",
     "status": "completed"
    },
    "tags": []
   },
   "source": [
    "# 0.\n",
    "\n",
    "*This is a silly question intended as an introduction to the format we use for hands-on exercises throughout all Kaggle courses.*\n",
    "\n",
    "**What is your favorite color? **\n",
    "\n",
    "To complete this question, create a variable called `color` in the cell below with an appropriate value. The function call `q0.check()` (which we've already provided in the cell below) will check your answer."
   ]
  },
  {
   "cell_type": "code",
   "execution_count": 3,
   "id": "400e56a4",
   "metadata": {
    "execution": {
     "iopub.execute_input": "2022-02-21T19:16:19.924507Z",
     "iopub.status.busy": "2022-02-21T19:16:19.923869Z",
     "iopub.status.idle": "2022-02-21T19:16:19.932395Z",
     "shell.execute_reply": "2022-02-21T19:16:19.932903Z"
    },
    "papermill": {
     "duration": 0.035383,
     "end_time": "2022-02-21T19:16:19.933068",
     "exception": false,
     "start_time": "2022-02-21T19:16:19.897685",
     "status": "completed"
    },
    "tags": []
   },
   "outputs": [
    {
     "data": {
      "application/javascript": [
       "parent.postMessage({\"jupyterEvent\": \"custom.exercise_interaction\", \"data\": {\"outcomeType\": 4, \"interactionType\": 1, \"questionType\": 2, \"questionId\": \"0_ExerciseFormatTutorial\", \"learnToolsVersion\": \"0.3.4\", \"valueTowardsCompletion\": 0.0, \"failureMessage\": \"\", \"exceptionClass\": \"\", \"trace\": \"\"}}, \"*\")"
      ],
      "text/plain": [
       "<IPython.core.display.Javascript object>"
      ]
     },
     "metadata": {},
     "output_type": "display_data"
    },
    {
     "data": {
      "text/markdown": [
       "<span style=\"color:#ccaa33\">Check:</span> When you've updated the starter code, `check()` will tell you whether your code is correct. Remember, you must create the following variable: `color`"
      ],
      "text/plain": [
       "Check: When you've updated the starter code, `check()` will tell you whether your code is correct. Remember, you must create the following variable: `color`"
      ]
     },
     "metadata": {},
     "output_type": "display_data"
    }
   ],
   "source": [
    "# create a variable called color with an appropriate value on the line below\n",
    "# (Remember, strings in Python must be enclosed in 'single' or \"double\" quotes)\n",
    "____\n",
    "\n",
    "# Check your answer\n",
    "q0.check()"
   ]
  },
  {
   "cell_type": "markdown",
   "id": "13aafb5f",
   "metadata": {
    "papermill": {
     "duration": 0.023724,
     "end_time": "2022-02-21T19:16:19.981694",
     "exception": false,
     "start_time": "2022-02-21T19:16:19.957970",
     "status": "completed"
    },
    "tags": []
   },
   "source": [
    "Didn't get the right answer? How do you not even know your own favorite color?!\n",
    "\n",
    "Delete the `#` in the line below to make one of the lines run. You can choose between getting a hint or the full answer by choosing which line to remove the `#` from. \n",
    "\n",
    "Removing the `#` is called uncommenting, because it changes that line from a \"comment\" which Python doesn't run to code, which Python does run."
   ]
  },
  {
   "cell_type": "code",
   "execution_count": 4,
   "id": "38dc6c21",
   "metadata": {
    "execution": {
     "iopub.execute_input": "2022-02-21T19:16:20.033877Z",
     "iopub.status.busy": "2022-02-21T19:16:20.033152Z",
     "iopub.status.idle": "2022-02-21T19:16:20.035985Z",
     "shell.execute_reply": "2022-02-21T19:16:20.036553Z"
    },
    "papermill": {
     "duration": 0.030862,
     "end_time": "2022-02-21T19:16:20.036720",
     "exception": false,
     "start_time": "2022-02-21T19:16:20.005858",
     "status": "completed"
    },
    "tags": []
   },
   "outputs": [],
   "source": [
    "#q0.hint()\n",
    "#q0.solution()"
   ]
  },
  {
   "cell_type": "markdown",
   "id": "1b858b43",
   "metadata": {
    "papermill": {
     "duration": 0.024316,
     "end_time": "2022-02-21T19:16:20.085828",
     "exception": false,
     "start_time": "2022-02-21T19:16:20.061512",
     "status": "completed"
    },
    "tags": []
   },
   "source": [
    "The upcoming questions work the same way. The only thing that will change are the question numbers. For the next question, you'll call `q1.check()`, `q1.hint()`, `q1.solution()`, for question 2, you'll call `q2.check()`, and so on."
   ]
  },
  {
   "cell_type": "markdown",
   "id": "3713bfd2",
   "metadata": {
    "papermill": {
     "duration": 0.024121,
     "end_time": "2022-02-21T19:16:20.134287",
     "exception": false,
     "start_time": "2022-02-21T19:16:20.110166",
     "status": "completed"
    },
    "tags": []
   },
   "source": [
    "<hr/>\n",
    "\n",
    "# 1.\n",
    "\n",
    "Complete the code below. In case it's helpful, here is the table of available arithmetic operations:\n",
    "\n",
    "\n",
    "\n",
    "| Operator     | Name           | Description                                            |\n",
    "|--------------|----------------|--------------------------------------------------------|\n",
    "| ``a + b``    | Addition       | Sum of ``a`` and ``b``                                 |\n",
    "| ``a - b``    | Subtraction    | Difference of ``a`` and ``b``                          |\n",
    "| ``a * b``    | Multiplication | Product of ``a`` and ``b``                             |\n",
    "| ``a / b``    | True division  | Quotient of ``a`` and ``b``                            |\n",
    "| ``a // b``   | Floor division | Quotient of ``a`` and ``b``, removing fractional parts |\n",
    "| ``a % b``    | Modulus        | Integer remainder after division of ``a`` by ``b``     |\n",
    "| ``a ** b``   | Exponentiation | ``a`` raised to the power of ``b``                     |\n",
    "| ``-a``       | Negation       | The negative of ``a``                                  |\n",
    "\n",
    "<span style=\"display:none\"></span>\n"
   ]
  },
  {
   "cell_type": "code",
   "execution_count": 5,
   "id": "3e55f8b3",
   "metadata": {
    "execution": {
     "iopub.execute_input": "2022-02-21T19:16:20.185460Z",
     "iopub.status.busy": "2022-02-21T19:16:20.184884Z",
     "iopub.status.idle": "2022-02-21T19:16:20.190951Z",
     "shell.execute_reply": "2022-02-21T19:16:20.191597Z"
    },
    "papermill": {
     "duration": 0.033333,
     "end_time": "2022-02-21T19:16:20.191833",
     "exception": false,
     "start_time": "2022-02-21T19:16:20.158500",
     "status": "completed"
    },
    "tags": []
   },
   "outputs": [
    {
     "data": {
      "application/javascript": [
       "parent.postMessage({\"jupyterEvent\": \"custom.exercise_interaction\", \"data\": {\"outcomeType\": 4, \"interactionType\": 1, \"questionType\": 1, \"questionId\": \"1_CircleArea\", \"learnToolsVersion\": \"0.3.4\", \"valueTowardsCompletion\": 0.0, \"failureMessage\": \"\", \"exceptionClass\": \"\", \"trace\": \"\"}}, \"*\")"
      ],
      "text/plain": [
       "<IPython.core.display.Javascript object>"
      ]
     },
     "metadata": {},
     "output_type": "display_data"
    },
    {
     "data": {
      "text/markdown": [
       "<span style=\"color:#ccaa33\">Check:</span> When you've updated the starter code, `check()` will tell you whether your code is correct. Remember, you must create the following variables: `radius`, `area`"
      ],
      "text/plain": [
       "Check: When you've updated the starter code, `check()` will tell you whether your code is correct. Remember, you must create the following variables: `radius`, `area`"
      ]
     },
     "metadata": {},
     "output_type": "display_data"
    }
   ],
   "source": [
    "pi = 3.14159 # approximate\n",
    "diameter = 3\n",
    "\n",
    "# Create a variable called 'radius' equal to half the diameter\n",
    "____\n",
    "\n",
    "# Create a variable called 'area', using the formula for the area of a circle: pi times the radius squared\n",
    "____\n",
    "\n",
    "# Check your answer\n",
    "q1.check()"
   ]
  },
  {
   "cell_type": "code",
   "execution_count": 6,
   "id": "e31b0860",
   "metadata": {
    "execution": {
     "iopub.execute_input": "2022-02-21T19:16:20.248655Z",
     "iopub.status.busy": "2022-02-21T19:16:20.248028Z",
     "iopub.status.idle": "2022-02-21T19:16:20.250667Z",
     "shell.execute_reply": "2022-02-21T19:16:20.251295Z"
    },
    "papermill": {
     "duration": 0.031943,
     "end_time": "2022-02-21T19:16:20.251453",
     "exception": false,
     "start_time": "2022-02-21T19:16:20.219510",
     "status": "completed"
    },
    "tags": []
   },
   "outputs": [],
   "source": [
    "# Uncomment and run the lines below if you need help.\n",
    "#q1.hint()\n",
    "#q1.solution()"
   ]
  },
  {
   "cell_type": "markdown",
   "id": "3c7013ad",
   "metadata": {
    "papermill": {
     "duration": 0.026069,
     "end_time": "2022-02-21T19:16:20.304536",
     "exception": false,
     "start_time": "2022-02-21T19:16:20.278467",
     "status": "completed"
    },
    "tags": []
   },
   "source": [
    "<hr/>\n",
    "\n",
    "# 2.\n",
    "\n",
    "Add code to the following cell to swap variables `a` and `b` (so that `a` refers to the object previously referred to by `b` and vice versa)."
   ]
  },
  {
   "cell_type": "code",
   "execution_count": 7,
   "id": "910ae2a6",
   "metadata": {
    "execution": {
     "iopub.execute_input": "2022-02-21T19:16:20.360479Z",
     "iopub.status.busy": "2022-02-21T19:16:20.359873Z",
     "iopub.status.idle": "2022-02-21T19:16:20.366685Z",
     "shell.execute_reply": "2022-02-21T19:16:20.367316Z"
    },
    "papermill": {
     "duration": 0.036353,
     "end_time": "2022-02-21T19:16:20.367479",
     "exception": false,
     "start_time": "2022-02-21T19:16:20.331126",
     "status": "completed"
    },
    "tags": []
   },
   "outputs": [
    {
     "data": {
      "application/javascript": [
       "parent.postMessage({\"jupyterEvent\": \"custom.exercise_interaction\", \"data\": {\"outcomeType\": 2, \"failureMessage\": \"`a` and `b` still have their original values.\", \"interactionType\": 1, \"questionType\": 2, \"questionId\": \"2_VariableSwap\", \"learnToolsVersion\": \"0.3.4\", \"valueTowardsCompletion\": 0.0, \"exceptionClass\": \"\", \"trace\": \"\"}}, \"*\")"
      ],
      "text/plain": [
       "<IPython.core.display.Javascript object>"
      ]
     },
     "metadata": {},
     "output_type": "display_data"
    },
    {
     "data": {
      "text/markdown": [
       "<span style=\"color:#cc3333\">Incorrect:</span> `a` and `b` still have their original values."
      ],
      "text/plain": [
       "Incorrect: `a` and `b` still have their original values."
      ]
     },
     "metadata": {},
     "output_type": "display_data"
    }
   ],
   "source": [
    "########### Setup code - don't touch this part ######################\n",
    "# If you're curious, these are examples of lists. We'll talk about \n",
    "# them in depth a few lessons from now. For now, just know that they're\n",
    "# yet another type of Python object, like int or float.\n",
    "a = [1, 2, 3]\n",
    "b = [3, 2, 1]\n",
    "q2.store_original_ids()\n",
    "######################################################################\n",
    "\n",
    "# Your code goes here. Swap the values to which a and b refer.\n",
    "# If you get stuck, you can always uncomment one or both of the lines in\n",
    "# the next cell for a hint, or to peek at the solution.\n",
    "\n",
    "######################################################################\n",
    "\n",
    "# Check your answer\n",
    "q2.check()"
   ]
  },
  {
   "cell_type": "code",
   "execution_count": 8,
   "id": "d081ddc6",
   "metadata": {
    "execution": {
     "iopub.execute_input": "2022-02-21T19:16:20.426443Z",
     "iopub.status.busy": "2022-02-21T19:16:20.425857Z",
     "iopub.status.idle": "2022-02-21T19:16:20.429049Z",
     "shell.execute_reply": "2022-02-21T19:16:20.429589Z"
    },
    "papermill": {
     "duration": 0.034275,
     "end_time": "2022-02-21T19:16:20.429774",
     "exception": false,
     "start_time": "2022-02-21T19:16:20.395499",
     "status": "completed"
    },
    "tags": []
   },
   "outputs": [],
   "source": [
    "#q2.hint()"
   ]
  },
  {
   "cell_type": "code",
   "execution_count": 9,
   "id": "bad08b77",
   "metadata": {
    "execution": {
     "iopub.execute_input": "2022-02-21T19:16:20.489332Z",
     "iopub.status.busy": "2022-02-21T19:16:20.488751Z",
     "iopub.status.idle": "2022-02-21T19:16:20.491424Z",
     "shell.execute_reply": "2022-02-21T19:16:20.492069Z"
    },
    "papermill": {
     "duration": 0.034524,
     "end_time": "2022-02-21T19:16:20.492230",
     "exception": false,
     "start_time": "2022-02-21T19:16:20.457706",
     "status": "completed"
    },
    "tags": []
   },
   "outputs": [],
   "source": [
    "#q2.solution()"
   ]
  },
  {
   "cell_type": "markdown",
   "id": "b8d44873",
   "metadata": {
    "papermill": {
     "duration": 0.028805,
     "end_time": "2022-02-21T19:16:20.549886",
     "exception": false,
     "start_time": "2022-02-21T19:16:20.521081",
     "status": "completed"
    },
    "tags": []
   },
   "source": [
    "<hr/>\n",
    "\n",
    "# 3a.\n",
    "\n",
    "Add parentheses to the following expression so that it evaluates to 1."
   ]
  },
  {
   "cell_type": "code",
   "execution_count": 10,
   "id": "8a70a99a",
   "metadata": {
    "execution": {
     "iopub.execute_input": "2022-02-21T19:16:20.610842Z",
     "iopub.status.busy": "2022-02-21T19:16:20.610222Z",
     "iopub.status.idle": "2022-02-21T19:16:20.614162Z",
     "shell.execute_reply": "2022-02-21T19:16:20.614723Z"
    },
    "papermill": {
     "duration": 0.036307,
     "end_time": "2022-02-21T19:16:20.614894",
     "exception": false,
     "start_time": "2022-02-21T19:16:20.578587",
     "status": "completed"
    },
    "tags": []
   },
   "outputs": [
    {
     "data": {
      "text/plain": [
       "4"
      ]
     },
     "execution_count": 10,
     "metadata": {},
     "output_type": "execute_result"
    }
   ],
   "source": [
    "5 - 3 // 2"
   ]
  },
  {
   "cell_type": "code",
   "execution_count": 11,
   "id": "35a70771",
   "metadata": {
    "execution": {
     "iopub.execute_input": "2022-02-21T19:16:20.675570Z",
     "iopub.status.busy": "2022-02-21T19:16:20.674971Z",
     "iopub.status.idle": "2022-02-21T19:16:20.677568Z",
     "shell.execute_reply": "2022-02-21T19:16:20.678159Z"
    },
    "papermill": {
     "duration": 0.035214,
     "end_time": "2022-02-21T19:16:20.678325",
     "exception": false,
     "start_time": "2022-02-21T19:16:20.643111",
     "status": "completed"
    },
    "tags": []
   },
   "outputs": [],
   "source": [
    "#q3.a.hint()"
   ]
  },
  {
   "cell_type": "code",
   "execution_count": 12,
   "id": "79b8436d",
   "metadata": {
    "execution": {
     "iopub.execute_input": "2022-02-21T19:16:20.742367Z",
     "iopub.status.busy": "2022-02-21T19:16:20.741663Z",
     "iopub.status.idle": "2022-02-21T19:16:20.747609Z",
     "shell.execute_reply": "2022-02-21T19:16:20.748149Z"
    },
    "papermill": {
     "duration": 0.040654,
     "end_time": "2022-02-21T19:16:20.748310",
     "exception": false,
     "start_time": "2022-02-21T19:16:20.707656",
     "status": "completed"
    },
    "tags": []
   },
   "outputs": [
    {
     "data": {
      "application/javascript": [
       "parent.postMessage({\"jupyterEvent\": \"custom.exercise_interaction\", \"data\": {\"interactionType\": 3, \"questionType\": 4, \"questionId\": \"3.1_ArithmeticParensEasy\", \"learnToolsVersion\": \"0.3.4\", \"valueTowardsCompletion\": 0.0, \"failureMessage\": \"\", \"exceptionClass\": \"\", \"trace\": \"\", \"outcomeType\": 4}}, \"*\")"
      ],
      "text/plain": [
       "<IPython.core.display.Javascript object>"
      ]
     },
     "metadata": {},
     "output_type": "display_data"
    },
    {
     "data": {
      "text/markdown": [
       "<span style=\"color:#33cc99\">Solution:</span> \n",
       "```python\n",
       "(5 - 3) // 2\n",
       "```"
      ],
      "text/plain": [
       "Solution: \n",
       "```python\n",
       "(5 - 3) // 2\n",
       "```"
      ]
     },
     "metadata": {},
     "output_type": "display_data"
    }
   ],
   "source": [
    "# Check your answer (Run this code cell to receive credit!)\n",
    "q3.a.solution()"
   ]
  },
  {
   "cell_type": "markdown",
   "id": "4a61fd3b",
   "metadata": {
    "papermill": {
     "duration": 0.037819,
     "end_time": "2022-02-21T19:16:20.816475",
     "exception": false,
     "start_time": "2022-02-21T19:16:20.778656",
     "status": "completed"
    },
    "tags": []
   },
   "source": [
    "# 3b.  <span title=\"A bit spicy\" style=\"color: darkgreen \">🌶️</span>\n",
    "\n",
    "<small>Questions, like this one, marked a spicy pepper are a bit harder.</small>\n",
    "\n",
    "Add parentheses to the following expression so that it evaluates to 0."
   ]
  },
  {
   "cell_type": "code",
   "execution_count": 13,
   "id": "a85583df",
   "metadata": {
    "execution": {
     "iopub.execute_input": "2022-02-21T19:16:20.895857Z",
     "iopub.status.busy": "2022-02-21T19:16:20.895209Z",
     "iopub.status.idle": "2022-02-21T19:16:20.900135Z",
     "shell.execute_reply": "2022-02-21T19:16:20.900615Z"
    },
    "papermill": {
     "duration": 0.043796,
     "end_time": "2022-02-21T19:16:20.900798",
     "exception": false,
     "start_time": "2022-02-21T19:16:20.857002",
     "status": "completed"
    },
    "tags": []
   },
   "outputs": [
    {
     "data": {
      "text/plain": [
       "2"
      ]
     },
     "execution_count": 13,
     "metadata": {},
     "output_type": "execute_result"
    }
   ],
   "source": [
    "8 - 3 * 2 - 1 + 1"
   ]
  },
  {
   "cell_type": "code",
   "execution_count": 14,
   "id": "2e79c5bb",
   "metadata": {
    "execution": {
     "iopub.execute_input": "2022-02-21T19:16:20.965635Z",
     "iopub.status.busy": "2022-02-21T19:16:20.965036Z",
     "iopub.status.idle": "2022-02-21T19:16:20.968075Z",
     "shell.execute_reply": "2022-02-21T19:16:20.968580Z"
    },
    "papermill": {
     "duration": 0.036853,
     "end_time": "2022-02-21T19:16:20.968766",
     "exception": false,
     "start_time": "2022-02-21T19:16:20.931913",
     "status": "completed"
    },
    "tags": []
   },
   "outputs": [],
   "source": [
    "#q3.b.hint()"
   ]
  },
  {
   "cell_type": "code",
   "execution_count": 15,
   "id": "b42798c4",
   "metadata": {
    "execution": {
     "iopub.execute_input": "2022-02-21T19:16:21.033483Z",
     "iopub.status.busy": "2022-02-21T19:16:21.032874Z",
     "iopub.status.idle": "2022-02-21T19:16:21.038674Z",
     "shell.execute_reply": "2022-02-21T19:16:21.039251Z"
    },
    "papermill": {
     "duration": 0.039605,
     "end_time": "2022-02-21T19:16:21.039406",
     "exception": false,
     "start_time": "2022-02-21T19:16:20.999801",
     "status": "completed"
    },
    "tags": []
   },
   "outputs": [
    {
     "data": {
      "application/javascript": [
       "parent.postMessage({\"jupyterEvent\": \"custom.exercise_interaction\", \"data\": {\"interactionType\": 3, \"questionType\": 4, \"questionId\": \"3.2_ArithmeticParensHard\", \"learnToolsVersion\": \"0.3.4\", \"valueTowardsCompletion\": 0.0, \"failureMessage\": \"\", \"exceptionClass\": \"\", \"trace\": \"\", \"outcomeType\": 4}}, \"*\")"
      ],
      "text/plain": [
       "<IPython.core.display.Javascript object>"
      ]
     },
     "metadata": {},
     "output_type": "display_data"
    },
    {
     "data": {
      "text/markdown": [
       "<span style=\"color:#33cc99\">Solution:</span> `(8 - 3) * (2 - (1 + 1))` is one solution. There may be others."
      ],
      "text/plain": [
       "Solution: `(8 - 3) * (2 - (1 + 1))` is one solution. There may be others."
      ]
     },
     "metadata": {},
     "output_type": "display_data"
    }
   ],
   "source": [
    "# Check your answer (Run this code cell to receive credit!)\n",
    "q3.b.solution()"
   ]
  },
  {
   "cell_type": "markdown",
   "id": "57c8a77c",
   "metadata": {
    "papermill": {
     "duration": 0.031695,
     "end_time": "2022-02-21T19:16:21.103329",
     "exception": false,
     "start_time": "2022-02-21T19:16:21.071634",
     "status": "completed"
    },
    "tags": []
   },
   "source": [
    "<hr/>\n",
    "\n",
    "# 4. \n",
    "Alice, Bob and Carol have agreed to pool their Halloween candy and split it evenly among themselves.\n",
    "For the sake of their friendship, any candies left over will be smashed. For example, if they collectively\n",
    "bring home 91 candies, they'll take 30 each and smash 1.\n",
    "\n",
    "Write an arithmetic expression below to calculate how many candies they must smash for a given haul."
   ]
  },
  {
   "cell_type": "code",
   "execution_count": 16,
   "id": "1a697291",
   "metadata": {
    "execution": {
     "iopub.execute_input": "2022-02-21T19:16:21.169779Z",
     "iopub.status.busy": "2022-02-21T19:16:21.169131Z",
     "iopub.status.idle": "2022-02-21T19:16:21.175664Z",
     "shell.execute_reply": "2022-02-21T19:16:21.176276Z"
    },
    "papermill": {
     "duration": 0.041496,
     "end_time": "2022-02-21T19:16:21.176432",
     "exception": false,
     "start_time": "2022-02-21T19:16:21.134936",
     "status": "completed"
    },
    "tags": []
   },
   "outputs": [
    {
     "data": {
      "application/javascript": [
       "parent.postMessage({\"jupyterEvent\": \"custom.exercise_interaction\", \"data\": {\"outcomeType\": 4, \"interactionType\": 1, \"questionType\": 1, \"questionId\": \"4_CandySplitting\", \"learnToolsVersion\": \"0.3.4\", \"valueTowardsCompletion\": 0.0, \"failureMessage\": \"\", \"exceptionClass\": \"\", \"trace\": \"\"}}, \"*\")"
      ],
      "text/plain": [
       "<IPython.core.display.Javascript object>"
      ]
     },
     "metadata": {},
     "output_type": "display_data"
    },
    {
     "data": {
      "text/markdown": [
       "<span style=\"color:#ccaa33\">Check:</span> When you've updated the starter code, `check()` will tell you whether your code is correct. You need to update the code that creates variable `to_smash`"
      ],
      "text/plain": [
       "Check: When you've updated the starter code, `check()` will tell you whether your code is correct. You need to update the code that creates variable `to_smash`"
      ]
     },
     "metadata": {},
     "output_type": "display_data"
    }
   ],
   "source": [
    "# Variables representing the number of candies collected by alice, bob, and carol\n",
    "alice_candies = 121\n",
    "bob_candies = 77\n",
    "carol_candies = 109\n",
    "\n",
    "# Your code goes here! Replace the right-hand side of this assignment with an expression\n",
    "# involving alice_candies, bob_candies, and carol_candies\n",
    "to_smash = -1\n",
    "\n",
    "# Check your answer\n",
    "q4.check()"
   ]
  },
  {
   "cell_type": "code",
   "execution_count": 17,
   "id": "9afe51f4",
   "metadata": {
    "execution": {
     "iopub.execute_input": "2022-02-21T19:16:21.247348Z",
     "iopub.status.busy": "2022-02-21T19:16:21.246708Z",
     "iopub.status.idle": "2022-02-21T19:16:21.249373Z",
     "shell.execute_reply": "2022-02-21T19:16:21.249885Z"
    },
    "papermill": {
     "duration": 0.040409,
     "end_time": "2022-02-21T19:16:21.250056",
     "exception": false,
     "start_time": "2022-02-21T19:16:21.209647",
     "status": "completed"
    },
    "tags": []
   },
   "outputs": [],
   "source": [
    "#q4.hint()\n",
    "#q4.solution()"
   ]
  },
  {
   "cell_type": "markdown",
   "id": "c8ddedb1",
   "metadata": {
    "papermill": {
     "duration": 0.034209,
     "end_time": "2022-02-21T19:16:21.318409",
     "exception": false,
     "start_time": "2022-02-21T19:16:21.284200",
     "status": "completed"
    },
    "tags": []
   },
   "source": [
    "# Keep Going\n",
    "\n",
    "Next up, you'll **[learn to write new functions and understand functions others write](https://www.kaggle.com/colinmorris/functions-and-getting-help)**. This will make you at least 10 times more productive as a Python programmer. "
   ]
  },
  {
   "cell_type": "markdown",
   "id": "3d72da29",
   "metadata": {
    "papermill": {
     "duration": 0.033001,
     "end_time": "2022-02-21T19:16:21.385191",
     "exception": false,
     "start_time": "2022-02-21T19:16:21.352190",
     "status": "completed"
    },
    "tags": []
   },
   "source": [
    "---\n",
    "\n",
    "\n",
    "\n",
    "\n",
    "*Have questions or comments? Visit the [Learn Discussion forum](https://www.kaggle.com/learn-forum/161283) to chat with other Learners.*"
   ]
  }
 ],
 "metadata": {
  "kernelspec": {
   "display_name": "Python 3",
   "language": "python",
   "name": "python3"
  },
  "language_info": {
   "codemirror_mode": {
    "name": "ipython",
    "version": 3
   },
   "file_extension": ".py",
   "mimetype": "text/x-python",
   "name": "python",
   "nbconvert_exporter": "python",
   "pygments_lexer": "ipython3",
   "version": "3.7.12"
  },
  "papermill": {
   "default_parameters": {},
   "duration": 11.710944,
   "end_time": "2022-02-21T19:16:22.027801",
   "environment_variables": {},
   "exception": null,
   "input_path": "__notebook__.ipynb",
   "output_path": "__notebook__.ipynb",
   "parameters": {},
   "start_time": "2022-02-21T19:16:10.316857",
   "version": "2.3.3"
  }
 },
 "nbformat": 4,
 "nbformat_minor": 5
}
